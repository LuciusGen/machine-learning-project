{
 "cells": [
  {
   "cell_type": "markdown",
   "id": "ca96b4fa",
   "metadata": {},
   "source": [
    "https://github.com/danielgatis/rembg"
   ]
  },
  {
   "cell_type": "code",
   "execution_count": 188,
   "id": "4c7dbc73",
   "metadata": {},
   "outputs": [],
   "source": [
    "import os\n",
    "\n",
    "os.chdir('../1')"
   ]
  },
  {
   "cell_type": "code",
   "execution_count": 197,
   "id": "e48e9617",
   "metadata": {
    "scrolled": true
   },
   "outputs": [],
   "source": [
    "from rembg import remove\n",
    "import cv2\n",
    "\n",
    "input_path = '1.jpg'\n",
    "\n",
    "input = cv2.imread(input_path)\n",
    "output = remove(input)\n",
    "gray = cv2.cvtColor(output, cv2.COLOR_BGR2GRAY)\n",
    "thresh = cv2.threshold(gray, 1, 255, 0)[1]\n",
    "contours, hierarchy = cv2.findContours(thresh, cv2.RETR_EXTERNAL, cv2.CHAIN_APPROX_NONE)\n",
    "area = 0\n",
    "\n",
    "for cnt in contours:\n",
    "    area += cv2.contourArea(cnt)\n",
    "\n",
    "cv2.drawContours(output, contours, -1, (0, 255, 0), 3)\n",
    "\n",
    "cv2.imshow('Contours', output)\n",
    "cv2.waitKey(0)\n",
    "cv2.destroyAllWindows()"
   ]
  },
  {
   "cell_type": "code",
   "execution_count": 198,
   "id": "f2c6eccc",
   "metadata": {},
   "outputs": [],
   "source": [
    "from skimage.filters import threshold_otsu\n",
    "from skimage.color import rgb2gray\n",
    "from skimage import img_as_ubyte\n",
    "from skimage.morphology import binary_closing, disk\n",
    "from skimage.filters import gaussian\n",
    "import numpy as np\n",
    "\n",
    "img = cv2.imread(input_path)\n",
    "img_gray = rgb2gray(img)\n",
    "\n",
    "thresh_otsu = threshold_otsu(img_gray)\n",
    "otsu = img_gray >= thresh_otsu\n",
    "\n",
    "close_otsu = binary_closing(otsu)\n",
    "cv_close_otsu = img_as_ubyte(close_otsu)\n",
    "\n",
    "cnts = cv2.findContours(cv_close_otsu, cv2.RETR_EXTERNAL, cv2.CHAIN_APPROX_NONE)[-2]\n",
    "cnt = sorted(cnts, key=cv2.contourArea, reverse=True)[0]\n",
    "\n",
    "rbox = cv2.minAreaRect(cnt)\n",
    "pts = cv2.boxPoints(rbox).astype(np.int32)\n",
    "cv2.drawContours(img, [pts], -1, (0, 255, 0), 1, cv2.LINE_AA)\n",
    "\n",
    "cv2.imshow('Contours', img)\n",
    "cv2.waitKey(0)\n",
    "cv2.destroyAllWindows()"
   ]
  },
  {
   "cell_type": "code",
   "execution_count": 199,
   "id": "590c9689",
   "metadata": {},
   "outputs": [
    {
     "data": {
      "text/plain": [
       "4.059853619989857"
      ]
     },
     "execution_count": 199,
     "metadata": {},
     "output_type": "execute_result"
    }
   ],
   "source": [
    "width = 210\n",
    "height = 297\n",
    "area = width * height\n",
    "\n",
    "k = (cv2.contourArea(pts) / area) ** 0.5\n",
    "k"
   ]
  },
  {
   "cell_type": "code",
   "execution_count": 200,
   "id": "af2adaab",
   "metadata": {},
   "outputs": [],
   "source": [
    "from dataclasses import dataclass\n",
    "\n",
    "@dataclass\n",
    "class ContourWithArea:\n",
    "    \"\"\"\n",
    "    Object for contour and area data\n",
    "    \"\"\"\n",
    "    contour: np.array\n",
    "    area: float\n",
    "        \n",
    "ct= [ContourWithArea((i / k).astype(int), cv2.contourArea((i / k).astype(int))) for i in contours]"
   ]
  },
  {
   "cell_type": "code",
   "execution_count": 201,
   "id": "5dd9d698",
   "metadata": {
    "scrolled": false
   },
   "outputs": [],
   "source": [
    "max_ct_ar = max([i.area for i in ct])\n",
    "filter_area = 50\n",
    "filtered_arr = [i.area > filter_area for i in ct]\n",
    "ct = np.array(ct)\n",
    "filtered_ct = ct[filtered_arr]"
   ]
  },
  {
   "cell_type": "code",
   "execution_count": 202,
   "id": "b712c64c",
   "metadata": {},
   "outputs": [
    {
     "data": {
      "text/plain": [
       "[2396.0, 7257.0]"
      ]
     },
     "execution_count": 202,
     "metadata": {},
     "output_type": "execute_result"
    }
   ],
   "source": [
    "[i.area for i in filtered_ct]"
   ]
  },
  {
   "cell_type": "code",
   "execution_count": 203,
   "id": "0f4df96d",
   "metadata": {},
   "outputs": [
    {
     "data": {
      "text/plain": [
       "2"
      ]
     },
     "execution_count": 203,
     "metadata": {},
     "output_type": "execute_result"
    }
   ],
   "source": [
    "len(filtered_ct)"
   ]
  },
  {
   "cell_type": "code",
   "execution_count": 204,
   "id": "5dabb06a",
   "metadata": {},
   "outputs": [],
   "source": [
    "cv2.drawContours(output, [i.contour for i in filtered_ct], -1, (0, 255, 0), 3)\n",
    "\n",
    "cv2.imshow('Contours', output)\n",
    "cv2.waitKey(0)\n",
    "cv2.destroyAllWindows()"
   ]
  },
  {
   "cell_type": "code",
   "execution_count": null,
   "id": "25d32eb4",
   "metadata": {},
   "outputs": [],
   "source": []
  }
 ],
 "metadata": {
  "kernelspec": {
   "display_name": "Python 3 (ipykernel)",
   "language": "python",
   "name": "python3"
  },
  "language_info": {
   "codemirror_mode": {
    "name": "ipython",
    "version": 3
   },
   "file_extension": ".py",
   "mimetype": "text/x-python",
   "name": "python",
   "nbconvert_exporter": "python",
   "pygments_lexer": "ipython3",
   "version": "3.9.12"
  }
 },
 "nbformat": 4,
 "nbformat_minor": 5
}
